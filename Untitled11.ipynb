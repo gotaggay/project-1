{
 "cells": [
  {
   "cell_type": "code",
   "execution_count": 36,
   "metadata": {},
   "outputs": [],
   "source": [
    "class Circle: #클래스 객체생성\n",
    "    def __init__(self, radius): #객체 변수 외부값을 100으로 초기화\n",
    "        self.radius = radius\n",
    "    def calcPerimeter(self): #원의 둘레 계산\n",
    "        self.calcperimeter = 3.14 * 2 * self.radius\n",
    "    def calcArea(self): #원의 면적 계산\n",
    "        self.calcarea = 3.14 * self.radius**2\n",
    "    def __str__(self): #서클안의 정보출력\n",
    "        msg = \"반지름:\"+str(self.radius) +\"\\n원의 둘레:\"+str(self.calcperimeter) +\"\\n원의 면적:\"+str(self.calcarea)\n",
    "        return msg"
   ]
  },
  {
   "cell_type": "code",
   "execution_count": 37,
   "metadata": {},
   "outputs": [
    {
     "name": "stdout",
     "output_type": "stream",
     "text": [
      "반지름:100\n",
      "원의 둘레:628.0\n",
      "원의 면적:31400.0\n"
     ]
    }
   ],
   "source": [
    "myCircle = Circle(100) #myCircle에 radius 값 100인 서클객체 생성\n",
    "myCircle.calcPerimeter()\n",
    "myCircle.calcArea()\n",
    "print(myCircle)"
   ]
  },
  {
   "cell_type": "code",
   "execution_count": null,
   "metadata": {},
   "outputs": [],
   "source": []
  }
 ],
 "metadata": {
  "kernelspec": {
   "display_name": "Python 3",
   "language": "python",
   "name": "python3"
  },
  "language_info": {
   "codemirror_mode": {
    "name": "ipython",
    "version": 3
   },
   "file_extension": ".py",
   "mimetype": "text/x-python",
   "name": "python",
   "nbconvert_exporter": "python",
   "pygments_lexer": "ipython3",
   "version": "3.7.3"
  }
 },
 "nbformat": 4,
 "nbformat_minor": 2
}
