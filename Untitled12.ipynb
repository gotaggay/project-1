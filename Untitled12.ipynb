{
 "cells": [
  {
   "cell_type": "code",
   "execution_count": 5,
   "metadata": {},
   "outputs": [
    {
     "name": "stdout",
     "output_type": "stream",
     "text": [
      "입력 파일 이름 : c:\\\\numbers.txt\n",
      "출력 파일 이름 : c:\\\\output.txt\n"
     ]
    }
   ],
   "source": [
    "from tkinter import * \n",
    "\n",
    "file = input(\"입력 파일 이름 : \") #numbers.txt 파일열기\n",
    "infile = open(file, \"r\")\n",
    "files = infile.readlines() #파일 데이터 읽기\n",
    "infile.close()\n",
    "file = input(\"출력 파일 이름 : \") #출력 파일에 결과저장\n",
    "outfile = open(file, \"w\")"
   ]
  },
  {
   "cell_type": "code",
   "execution_count": 6,
   "metadata": {},
   "outputs": [],
   "source": [
    "total = 0  #변수값들을 0으로 초기화\n",
    "avg = 0\n",
    "count = 0\n",
    "for s in files: #files 변수에 저장된 데이터 수만큼 반복\n",
    "    total += float(s) #모든 실수더하기\n",
    "    count += 1 #평균을 구하기위해 실수개수 카운트\n",
    "avg = total / count #전체 더한값을 더한횟수로 나누어 평균계산\n",
    "\n",
    "print(\"합계=\"+str(total), file = outfile, end =\"\\n\") # 합계와 평균값을 output파일에 저장\n",
    "print(\"평균=\"+str(avg), file = outfile, end =\"\")\n",
    "\n",
    "outfile.close()"
   ]
  },
  {
   "cell_type": "code",
   "execution_count": null,
   "metadata": {},
   "outputs": [],
   "source": []
  }
 ],
 "metadata": {
  "kernelspec": {
   "display_name": "Python 3",
   "language": "python",
   "name": "python3"
  },
  "language_info": {
   "codemirror_mode": {
    "name": "ipython",
    "version": 3
   },
   "file_extension": ".py",
   "mimetype": "text/x-python",
   "name": "python",
   "nbconvert_exporter": "python",
   "pygments_lexer": "ipython3",
   "version": "3.7.3"
  }
 },
 "nbformat": 4,
 "nbformat_minor": 2
}
